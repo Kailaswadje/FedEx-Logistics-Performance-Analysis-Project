{
  "nbformat": 4,
  "nbformat_minor": 0,
  "metadata": {
    "colab": {
      "private_outputs": true,
      "provenance": []
    },
    "kernelspec": {
      "name": "python3",
      "display_name": "Python 3"
    },
    "language_info": {
      "name": "python"
    }
  },
  "cells": [
    {
      "cell_type": "markdown",
      "source": [
        "# **Project Name**    - **FedEx Logistics Performance Analysis**\n",
        "\n"
      ],
      "metadata": {
        "id": "vncDsAP0Gaoa"
      }
    },
    {
      "cell_type": "markdown",
      "source": [
        "##### **Project Type**    - **EDA**\n",
        "##### **Contribution**    - **Individual**\n",
        "##### **Team Member 1 -** **Kailas Balaji Wadje**\n",
        "\n"
      ],
      "metadata": {
        "id": "beRrZCGUAJYm"
      }
    },
    {
      "cell_type": "markdown",
      "source": [
        "# **Project Summary -**"
      ],
      "metadata": {
        "id": "FJNUwmbgGyua"
      }
    },
    {
      "cell_type": "markdown",
      "source": [
        "This Exploratory Data Analysis (EDA) project focuses on uncovering insights from FedEx Logistics' global supply chain dataset. The dataset encompasses detailed information on various aspects of logistics operations, including purchase orders (POs), shipment methods, vendor agreements (INCO terms), delivery schedules, and product-level data such as item descriptions and dosage forms. Given the complexity and scale of international logistics, the primary objective of this EDA is to support FedEx in enhancing supply chain efficiency, reducing operational costs, and ensuring timely deliveries.\n",
        "\n",
        "The project also investigates vendor performance by comparing delivery timelines and fulfillment rates. This helps in identifying reliable vendors and those requiring closer monitoring or contract renegotiation. Furthermore, the dosage form and item description fields are assessed to identify any product-specific handling requirements that may influence shipping timelines or costs.\n",
        "\n",
        "One of the critical goals of this analysis is to detect bottlenecks in the supply chain and recommend actionable solutions. These insights are especially crucial in the context of rising global eCommerce demand, where speed and reliability are essential to maintaining a competitive advantage. Through visualizations and statistical summaries, the EDA provides a comprehensive overview of how various factors interact and contribute to either operational efficiency or delays.\n",
        "\n",
        "In conclusion, this EDA lays the groundwork for data-driven decision-making within FedEx Logistics. By highlighting inefficiencies and opportunities within the logistics network, it empowers the company to streamline operations, optimize shipment strategies, and improve customer satisfaction while effectively controlling freight costs."
      ],
      "metadata": {
        "id": "F6v_1wHtG2nS"
      }
    },
    {
      "cell_type": "markdown",
      "source": [
        "# **GitHub Link -**"
      ],
      "metadata": {
        "id": "w6K7xa23Elo4"
      }
    },
    {
      "cell_type": "markdown",
      "source": [
        "##### GitHub URL: https://github.com/Kailaswadje"
      ],
      "metadata": {
        "id": "h1o69JH3Eqqn"
      }
    },
    {
      "cell_type": "markdown",
      "source": [
        "# **Problem Statement**\n"
      ],
      "metadata": {
        "id": "yQaldy8SH6Dl"
      }
    },
    {
      "cell_type": "markdown",
      "source": [
        "1. **Team Performance in On-Time Delivery** :\n",
        "Are shipments managed by specific teams (e.g., PMO – US) more likely to be\n",
        "delivered on time compared to others?\n",
        "\n",
        "2. **Impact of Shipment Mode on Delivery** :\n",
        "Does the shipment mode (air, sea, etc.) influence the likelihood of meeting the scheduled delivery date?\n",
        "Does the shipment mode impact the frequency of on-time deliveries?\n",
        "\n",
        "3. **Country-Wise Delivery Delays** :\n",
        "Do shipments from certain countries experience more delays compared to others?\n",
        "\n",
        "4. **Vendor Lead Time and Delivery Performance** :\n",
        "Is there a difference in delivery performance (on-time vs. delayed) based on the time between the PO Sent to Vendor Date and the Scheduled Delivery Date?\n",
        "\n",
        "5. **Effect of INCO Terms on Vendor Performance** :\n",
        "Does the type of INCO term used impact vendor delivery performance?\n",
        "\n",
        "6. **Weight vs. Insurance Cost** :\n",
        "Are shipments with higher weights more likely to incur higher insurance costs (Line Item Insurance)?"
      ],
      "metadata": {
        "id": "DpeJGUA3kjGy"
      }
    },
    {
      "cell_type": "markdown",
      "source": [
        "#### **Define Your Business Objective?**"
      ],
      "metadata": {
        "id": "PH-0ReGfmX4f"
      }
    },
    {
      "cell_type": "markdown",
      "source": [
        "The primary business objective of this Exploratory Data Analysis (EDA) project is to optimize FedEx Logistics' global supply chain performance by identifying key factors that influence delivery timelines, cost-efficiency, and vendor reliability. By analyzing historical shipment data—spanning purchase orders, shipment modes, vendor terms (INCO), delivery schedules, and product-level attributes—FedEx aims to:\n",
        "\n",
        "Improve On-Time Delivery Rates:\n",
        "Determine which variables (e.g., shipment mode, team, country of origin) most significantly impact timely deliveries.\n",
        "\n",
        "Minimize Freight and Insurance Costs:\n",
        "Understand cost drivers such as shipment weight and insurance fees to recommend more economical shipping practices.\n",
        "\n",
        "Enhance Vendor and Route Performance:\n",
        "Evaluate vendor reliability and regional performance trends to renegotiate terms, switch suppliers, or adjust lead times.\n",
        "\n",
        "Support Data-Driven Decision-Making:\n",
        "Provide actionable insights through visualizations and statistical validation to inform logistics planning, procurement strategies, and stockholder communications.\n",
        "\n",
        "Ultimately, the goal is to enable faster, more reliable, and cost-effective logistics operations, which enhances customer satisfaction and sustains FedEx’s competitive edge in a growing global eCommerce market."
      ],
      "metadata": {
        "id": "PhDvGCAqmjP1"
      }
    },
    {
      "cell_type": "markdown",
      "source": [
        "# **General Guidelines** : -  "
      ],
      "metadata": {
        "id": "mDgbUHAGgjLW"
      }
    },
    {
      "cell_type": "markdown",
      "source": [
        "1.   Well-structured, formatted, and commented code is required.\n",
        "2.   Exception Handling, Production Grade Code & Deployment Ready Code will be a plus. Those students will be awarded some additional credits.\n",
        "     \n",
        "     The additional credits will have advantages over other students during Star Student selection.\n",
        "       \n",
        "             [ Note: - Deployment Ready Code is defined as, the whole .ipynb notebook should be executable in one go\n",
        "                       without a single error logged. ]\n",
        "\n",
        "3.   Each and every logic should have proper comments.\n",
        "4. You may add as many number of charts you want. Make Sure for each and every chart the following format should be answered.\n",
        "        \n",
        "\n",
        "```\n",
        "# Chart visualization code\n",
        "```\n",
        "            \n",
        "\n",
        "*   Why did you pick the specific chart?\n",
        "*   What is/are the insight(s) found from the chart?\n",
        "* Will the gained insights help creating a positive business impact?\n",
        "Are there any insights that lead to negative growth? Justify with specific reason.\n",
        "\n",
        "5. You have to create at least 20 logical & meaningful charts having important insights.\n",
        "\n",
        "\n",
        "[ Hints : - Do the Vizualization in  a structured way while following \"UBM\" Rule.\n",
        "\n",
        "U - Univariate Analysis,\n",
        "\n",
        "B - Bivariate Analysis (Numerical - Categorical, Numerical - Numerical, Categorical - Categorical)\n",
        "\n",
        "M - Multivariate Analysis\n",
        " ]\n",
        "\n",
        "\n",
        "\n"
      ],
      "metadata": {
        "id": "ZrxVaUj-hHfC"
      }
    },
    {
      "cell_type": "markdown",
      "source": [
        "# ***Let's Begin !***"
      ],
      "metadata": {
        "id": "O_i_v8NEhb9l"
      }
    },
    {
      "cell_type": "markdown",
      "source": [
        "## ***1. Know Your Data***"
      ],
      "metadata": {
        "id": "HhfV-JJviCcP"
      }
    },
    {
      "cell_type": "markdown",
      "source": [
        "### Import Libraries"
      ],
      "metadata": {
        "id": "Y3lxredqlCYt"
      }
    },
    {
      "cell_type": "code",
      "source": [
        "# Import Libraries\n",
        "import numpy as np\n",
        "import pandas as pd\n",
        "import matplotlib.pyplot as plt\n",
        "import seaborn as sns\n",
        "from datetime import datetime\n",
        "import warnings\n",
        "warnings.filterwarnings('ignore')\n",
        "import plotly.express as px"
      ],
      "metadata": {
        "id": "M8Vqi-pPk-HR"
      },
      "execution_count": null,
      "outputs": []
    },
    {
      "cell_type": "markdown",
      "source": [
        "### Dataset Loading"
      ],
      "metadata": {
        "id": "3RnN4peoiCZX"
      }
    },
    {
      "cell_type": "code",
      "source": [
        "from google.colab import drive\n",
        "drive.mount('/content/drive')"
      ],
      "metadata": {
        "id": "rsqrQ_85u4aE"
      },
      "execution_count": null,
      "outputs": []
    },
    {
      "cell_type": "code",
      "source": [
        "# Load Dataset\n",
        "data = pd.read_csv(\"/content/drive/MyDrive/SCMS_Delivery_History_Dataset.csv\")\n",
        "data"
      ],
      "metadata": {
        "id": "4CkvbW_SlZ_R",
        "collapsed": true
      },
      "execution_count": null,
      "outputs": []
    },
    {
      "cell_type": "markdown",
      "source": [
        "### Dataset First View"
      ],
      "metadata": {
        "id": "x71ZqKXriCWQ"
      }
    },
    {
      "cell_type": "code",
      "source": [
        "# Dataset First Look\n",
        "data.head()"
      ],
      "metadata": {
        "id": "LWNFOSvLl09H",
        "collapsed": true
      },
      "execution_count": null,
      "outputs": []
    },
    {
      "cell_type": "markdown",
      "source": [
        "### Dataset Rows & Columns count"
      ],
      "metadata": {
        "id": "7hBIi_osiCS2"
      }
    },
    {
      "cell_type": "code",
      "source": [
        "# Dataset Rows & Columns count\n",
        "data.shape"
      ],
      "metadata": {
        "id": "Kllu7SJgmLij"
      },
      "execution_count": null,
      "outputs": []
    },
    {
      "cell_type": "markdown",
      "source": [
        "### Dataset Information"
      ],
      "metadata": {
        "id": "JlHwYmJAmNHm"
      }
    },
    {
      "cell_type": "code",
      "source": [
        "# Dataset Info\n",
        "data.info()"
      ],
      "metadata": {
        "id": "e9hRXRi6meOf"
      },
      "execution_count": null,
      "outputs": []
    },
    {
      "cell_type": "markdown",
      "source": [
        "#### Duplicate Values"
      ],
      "metadata": {
        "id": "35m5QtbWiB9F"
      }
    },
    {
      "cell_type": "code",
      "source": [
        "# Dataset Duplicate Value Count\n",
        "data.duplicated().sum()"
      ],
      "metadata": {
        "id": "1sLdpKYkmox0"
      },
      "execution_count": null,
      "outputs": []
    },
    {
      "cell_type": "markdown",
      "source": [
        "#### Missing Values/Null Values"
      ],
      "metadata": {
        "id": "PoPl-ycgm1ru"
      }
    },
    {
      "cell_type": "code",
      "source": [
        "# Missing Values/Null Values Count\n",
        "data.isnull().sum()"
      ],
      "metadata": {
        "id": "GgHWkxvamxVg",
        "collapsed": true
      },
      "execution_count": null,
      "outputs": []
    },
    {
      "cell_type": "code",
      "source": [
        "# Visualizing the missing values\n",
        "missing_counts = data.isnull().sum()\n",
        "missing_counts = missing_counts[missing_counts > 0].sort_values(ascending=False)\n",
        "\n",
        "plt.figure(figsize=(5, 5))\n",
        "missing_counts.plot(kind='bar')\n",
        "plt.title(\"Number of Missing Values per Column\")\n",
        "plt.xlabel(\"Columns\")\n",
        "plt.ylabel(\"Missing Values\")\n",
        "plt.xticks(rotation=45)\n",
        "plt.show()"
      ],
      "metadata": {
        "id": "3q5wnI3om9sJ",
        "collapsed": true
      },
      "execution_count": null,
      "outputs": []
    },
    {
      "cell_type": "markdown",
      "source": [
        "### What did you know about your dataset?"
      ],
      "metadata": {
        "id": "H0kj-8xxnORC"
      }
    },
    {
      "cell_type": "markdown",
      "source": [
        "**Domain and Context:**\n",
        "\n",
        "The dataset is related to FedEx Logistics operations, covering the global supply chain.\n",
        "\n",
        "It includes details on purchase orders (POs), shipment logistics, vendor terms, delivery timelines, and product-level information.\n",
        "\n",
        "**Structure and Columns:**\n",
        "\n",
        "The dataset contains a mix of categorical, date, and numerical columns, such as:\n",
        "\n",
        "  **Categorical:** Managed By, Vendor INCO Term, Item Description, Brand, Dosage Form, Manufacturing Site\n",
        "\n",
        "  **Date:** PO First Sent to Client Date, Scheduled Delivery Date, Delivery Recorded Date\n",
        "\n",
        "  **Numerical:** Weight (Kilograms), Line Item Quantity, Pack Price, Line Item Insurance (USD)\n",
        "\n",
        "**Missing Values Present:**\n",
        "\n",
        "Columns like Sub Classification, Dosage Form, and Brand have notable missing values, which could affect item-level analysis.\n",
        "\n",
        "A few records are missing in critical date fields, which can hinder the calculation of delivery performance (on-time vs delayed).\n",
        "\n",
        "**Potential Key Features for Analysis:**\n",
        "\n",
        "Delivery performance can be assessed using date columns.\n",
        "\n",
        "Cost analysis can utilize fields like Weight, Insurance, and Pack Price.\n",
        "\n",
        "INCO terms and Managed By teams may impact responsibility and efficiency.\n",
        "\n",
        "**Consistency:**\n",
        "\n",
        "Most numeric fields seem well-populated and clean, ideal for analysis without much imputation.\n",
        "\n",
        "Categorical fields show sparsity in certain areas, possibly due to inconsistent data collection or vendor differences.\n",
        "\n",
        "**Data Size:**\n",
        "\n",
        "Judging by the y-axis in the heatmap, the dataset has approximately 10,000 rows, making it suitable for statistical analysis and machine learning models."
      ],
      "metadata": {
        "id": "gfoNAAC-nUe_"
      }
    },
    {
      "cell_type": "markdown",
      "source": [
        "## ***2. Understanding Your Variables***"
      ],
      "metadata": {
        "id": "nA9Y7ga8ng1Z"
      }
    },
    {
      "cell_type": "code",
      "source": [
        "# Dataset Columns\n",
        "data.columns"
      ],
      "metadata": {
        "id": "j7xfkqrt5Ag5"
      },
      "execution_count": null,
      "outputs": []
    },
    {
      "cell_type": "code",
      "source": [
        "# Dataset Describe\n",
        "data.describe()"
      ],
      "metadata": {
        "id": "DnOaZdaE5Q5t"
      },
      "execution_count": null,
      "outputs": []
    },
    {
      "cell_type": "markdown",
      "source": [
        "### Variables Description"
      ],
      "metadata": {
        "id": "PBTbrJXOngz2"
      }
    },
    {
      "cell_type": "markdown",
      "source": [
        "**Key Observations:**\n",
        "\n",
        "High Variability: Large standard deviations in \"Line Item Quantity\", \"Line Item Value\", \"Pack Price\", and \"Line Item Insurance\" indicate high variability in the dataset.\n",
        "\n",
        "Zero Values: Minimum values for \"Line Item Value\", \"Pack Price\", \"Unit Price\", and \"Line Item Insurance\" are zero, suggesting that some line items might not have a cost or insurance associated.\n",
        "\n",
        "Wide Ranges: All monetary variables and quantities cover a broad range, indicating a mix of small and very large transactions or items.\n",
        "\n"
      ],
      "metadata": {
        "id": "aJV4KIxSnxay"
      }
    },
    {
      "cell_type": "markdown",
      "source": [
        "### Check Unique Values for each variable."
      ],
      "metadata": {
        "id": "u3PMJOP6ngxN"
      }
    },
    {
      "cell_type": "code",
      "source": [
        "# Check Unique Values for each variable.\n",
        "data.nunique()"
      ],
      "metadata": {
        "id": "zms12Yq5n-jE"
      },
      "execution_count": null,
      "outputs": []
    },
    {
      "cell_type": "markdown",
      "source": [
        "## 3. ***Data Wrangling***"
      ],
      "metadata": {
        "id": "dauF4eBmngu3"
      }
    },
    {
      "cell_type": "markdown",
      "source": [
        "### Data Wrangling Code"
      ],
      "metadata": {
        "id": "bKJF3rekwFvQ"
      }
    },
    {
      "cell_type": "code",
      "source": [
        "# Step 1: Clean column names (remove spaces and special characters for easier access)\n",
        "data.columns = data.columns.str.strip().str.replace(' ', '_').str.replace('(', '').str.replace(')', '')"
      ],
      "metadata": {
        "id": "wk-9a2fpoLcV"
      },
      "execution_count": null,
      "outputs": []
    },
    {
      "cell_type": "code",
      "source": [
        "# Step 2: Check missing values\n",
        "missing_values = data.isnull().sum()"
      ],
      "metadata": {
        "id": "d3u3mRaBiBaF"
      },
      "execution_count": null,
      "outputs": []
    },
    {
      "cell_type": "code",
      "source": [
        "# Step 3: Handle missing values\n",
        "# For simplicity, fill missing numerical values with 0 and categorical with 'Unknown'\n",
        "num_cols = data.select_dtypes(include=['float64', 'int64']).columns\n",
        "cat_cols = data.select_dtypes(include=['object']).columns\n",
        "\n",
        "data[num_cols] = data[num_cols].fillna(0)\n",
        "data[cat_cols] = data[cat_cols].fillna('Unknown')"
      ],
      "metadata": {
        "id": "v5wGJCaRiPFD"
      },
      "execution_count": null,
      "outputs": []
    },
    {
      "cell_type": "code",
      "source": [
        "# Step 4: Convert relevant columns to numeric (if they were read as object)\n",
        "cols_to_convert = ['Unit_of_Measure_Per_Pack', 'Line_Item_Quantity', 'Line_Item_Value',\n",
        "                   'Pack_Price', 'Unit_Price', 'Weight_Kilograms', 'Freight_Cost_USD',\n",
        "                   'Line_Item_Insurance_USD']\n",
        "\n",
        "for col in cols_to_convert:\n",
        "    data[col] = pd.to_numeric(data[col], errors='coerce').fillna(0)"
      ],
      "metadata": {
        "id": "WWXio93ziWKL"
      },
      "execution_count": null,
      "outputs": []
    },
    {
      "cell_type": "code",
      "source": [
        "# Step 5: Remove potential outliers (optional example: quantities over 500,000)\n",
        "data = data[data['Line_Item_Quantity'] <= 500000]"
      ],
      "metadata": {
        "id": "KiRrRMRTiqHh"
      },
      "execution_count": null,
      "outputs": []
    },
    {
      "cell_type": "code",
      "source": [
        "# Step 6: Reset index after filtering\n",
        "data = data.reset_index(drop=True)"
      ],
      "metadata": {
        "id": "maanW9AniwyU"
      },
      "execution_count": null,
      "outputs": []
    },
    {
      "cell_type": "code",
      "source": [
        "# Step 7: Final dataset check\n",
        "print(data.info())\n",
        "print(data.head())"
      ],
      "metadata": {
        "id": "pnEIlwXCi4yR"
      },
      "execution_count": null,
      "outputs": []
    },
    {
      "cell_type": "markdown",
      "source": [
        "### What all manipulations have you done and insights you found?"
      ],
      "metadata": {
        "id": "MSa1f5Uengrz"
      }
    },
    {
      "cell_type": "markdown",
      "source": [
        "1. **Column Name Cleaning**\n",
        "What: Removed spaces and special characters in column names to make them code-friendly.\n",
        "\n",
        "Why: Simplifies the data handling process and avoids syntax issues.\n",
        "\n",
        "2. **Missing Value Handling**\n",
        "What:\n",
        "\n",
        "Filled missing numerical values with 0 (assumed missing means unavailable or not applicable).\n",
        "\n",
        "Filled missing categorical values with 'Unknown'.\n",
        "\n",
        "Why: Ensures the dataset is complete and ready for analysis or modeling without crashing due to NaN values.\n",
        "\n",
        "3. **Data Type Conversion**\n",
        "What: Converted columns like Unit_of_Measure_Per_Pack, Line_Item_Quantity, Line_Item_Value, Pack_Price, Unit_Price, Weight_Kilograms, Freight_Cost_USD, and Line_Item_Insurance_USD to numeric types.\n",
        "\n",
        "Why: Some of these may have been read as object due to formatting issues. Numeric types allow proper mathematical operations and statistical analysis.\n",
        "\n",
        "4. **Outlier Handling**\n",
        "What: Removed rows where Line_Item_Quantity exceeded 500,000 units.\n",
        "\n",
        "Why: Based on the summary statistics (from your earlier image), 500,000+ is extremely high and could heavily skew analysis. These are potential outliers or data entry errors.\n",
        "\n",
        "5. **Index Reset**\n",
        "What: Reset the index after filtering the dataset.\n",
        "\n",
        "Why: Keeps the dataset clean and orderly.\n",
        "\n",
        "We found some key insights when performing data wrangling. They are listed below:\n",
        "\n",
        "1. **Presence of Missing Data**:\n",
        "Some insurance costs were missing, which is significant because it may indicate incomplete transactional records or cases where no insurance was applied.\n",
        "\n",
        "2. **High Variability Across Orders**:\n",
        "There’s a very wide range of quantities and prices.\n",
        "\n",
        "Example: Some line items have a quantity of 1, while others go up to hundreds of thousands.\n",
        "\n",
        "Prices range from $0.00 to $1,345.64 per pack.\n",
        "\n",
        "This suggests:\n",
        "\n",
        "The dataset includes both low-cost, high-frequency items (possibly consumables) and high-cost, low-frequency items (possibly capital goods or bulk orders).\n",
        "\n",
        "3. **Data Skewness:**\n",
        "Variables like Line_Item_Quantity, Line_Item_Value, and Pack_Price are highly skewed.\n",
        "\n",
        "There are likely some extreme values or power-law distributions, typical in supply chain datasets.\n",
        "\n",
        "4. **Zero Value Occurrences**:\n",
        "Some records have zero prices, zero quantities, or zero insurance.\n",
        "\n",
        "These may represent free-of-cost items, errors, or incomplete transactions."
      ],
      "metadata": {
        "id": "LbyXE7I1olp8"
      }
    },
    {
      "cell_type": "markdown",
      "source": [
        "## ***4. Data Vizualization, Storytelling & Experimenting with charts : Understand the relationships between variables***"
      ],
      "metadata": {
        "id": "GF8Ens_Soomf"
      }
    },
    {
      "cell_type": "markdown",
      "source": [
        "#### Chart - 1"
      ],
      "metadata": {
        "id": "0wOQAZs5pc--"
      }
    },
    {
      "cell_type": "code",
      "source": [
        "# Chart - 1 visualization code\n",
        "\n",
        "# Step 3: Clean column names for easier access\n",
        "data.columns = data.columns.str.strip().str.replace(' ', '_').str.replace('(', '').str.replace(')', '')\n",
        "\n",
        "# Step 4: Convert relevant columns to numeric\n",
        "cols_to_convert = ['Unit_of_Measure_Per_Pack', 'Line_Item_Quantity', 'Line_Item_Value',\n",
        "                   'Pack_Price', 'Unit_Price', 'Weight_Kilograms', 'Freight_Cost_USD',\n",
        "                   'Line_Item_Insurance_USD']\n",
        "\n",
        "for col in cols_to_convert:\n",
        "    data[col] = pd.to_numeric(data[col], errors='coerce').fillna(0)\n",
        "\n",
        "# Step 5: Filter out extreme outliers in quantity\n",
        "data = data[data['Line_Item_Quantity'] <= 500000].reset_index(drop=True)\n",
        "\n",
        "# Step 6: Plotting the univariate distribution of Line Item Quantity\n",
        "sns.set(style=\"whitegrid\")\n",
        "plt.figure(figsize=(5, 5))\n",
        "sns.histplot(data['Line_Item_Quantity'], bins=50, kde=True, color='skyblue')\n",
        "plt.title('Distribution of Line Item Quantity', fontsize=16)\n",
        "plt.xlabel('Line Item Quantity')\n",
        "plt.ylabel('Frequency')\n",
        "plt.show()"
      ],
      "metadata": {
        "id": "7v_ESjsspbW7"
      },
      "execution_count": null,
      "outputs": []
    },
    {
      "cell_type": "markdown",
      "source": [
        "##### 1. Why did you pick the specific chart?"
      ],
      "metadata": {
        "id": "K5QZ13OEpz2H"
      }
    },
    {
      "cell_type": "markdown",
      "source": [
        "I selected a Histogram with KDE (Kernel Density Estimation) because:\n",
        "\n",
        "It effectively displays the distribution of a single continuous variable.\n",
        "\n",
        "The KDE overlay helps visualize the underlying probability density of the variable.\n",
        "\n",
        "It shows whether the data is skewed, multi-modal, or uniformly distributed."
      ],
      "metadata": {
        "id": "XESiWehPqBRc"
      }
    },
    {
      "cell_type": "markdown",
      "source": [
        "##### 2. What is/are the insight(s) found from the chart?"
      ],
      "metadata": {
        "id": "lQ7QKXXCp7Bj"
      }
    },
    {
      "cell_type": "markdown",
      "source": [
        "The distribution is heavily right-skewed.\n",
        "\n",
        "The majority of the orders are for low quantities (between 0 and ~20,000 units).\n",
        "\n",
        "There is a long tail where a few orders have significantly high quantities (above 100,000 units).\n",
        "\n",
        "The peak ordering frequency is concentrated at the lower end of the quantity scale."
      ],
      "metadata": {
        "id": "C_j1G7yiqdRP"
      }
    },
    {
      "cell_type": "markdown",
      "source": [
        "##### 3. Will the gained insights help creating a positive business impact?\n",
        "Are there any insights that lead to negative growth? Justify with specific reason."
      ],
      "metadata": {
        "id": "448CDAPjqfQr"
      }
    },
    {
      "cell_type": "markdown",
      "source": [
        "Yes, the insights can positively influence the business:\n",
        "\n",
        "Inventory Planning: Since most orders are in smaller quantities, warehouses should prioritize stocking smaller batch sizes to meet the majority demand efficiently.\n",
        "\n",
        "Supply Chain Optimization: High-frequency, low-quantity orders may require better vendor coordination and faster delivery cycles.\n",
        "\n",
        "Bulk Order Strategy: The rare high-quantity orders could be handled with a specialized fulfillment process, possibly at discounted rates to encourage more such orders.\n",
        "\n",
        "Yes, potential negative growth risks are indicated:\n",
        "\n",
        "Order Imbalance: The low frequency of large orders suggests underutilization of bulk purchase opportunities. If the business over-prepares for large orders, it may lead to inventory stagnation.\n",
        "\n",
        "High Operational Costs: Frequent small orders can increase shipping and handling costs, reducing profit margins unless optimized.\n",
        "\n"
      ],
      "metadata": {
        "id": "3cspy4FjqxJW"
      }
    },
    {
      "cell_type": "markdown",
      "source": [
        "#### Chart - 2"
      ],
      "metadata": {
        "id": "KSlN3yHqYklG"
      }
    },
    {
      "cell_type": "code",
      "source": [
        "# Chart - 2 visualization code\n",
        "# Import necessary libraries\n",
        "\n",
        "# Filter out extreme outliers in freight cost (keep within 95th percentile for better visibility)\n",
        "upper_limit = data['Freight_Cost_USD'].quantile(0.95)\n",
        "data_filtered = data[data['Freight_Cost_USD'] <= upper_limit].reset_index(drop=True)\n",
        "\n",
        "# Plotting the box plot for Freight Cost\n",
        "plt.figure(figsize=(6, 6))\n",
        "sns.boxplot(x=data_filtered['Freight_Cost_USD'], color='orange')\n",
        "plt.title('Box Plot of Freight Cost (USD)', fontsize=16)\n",
        "plt.xlabel('Freight Cost (USD)')\n",
        "plt.show()\n"
      ],
      "metadata": {
        "id": "R4YgtaqtYklH"
      },
      "execution_count": null,
      "outputs": []
    },
    {
      "cell_type": "markdown",
      "source": [
        "##### 1. Why did you pick the specific chart?"
      ],
      "metadata": {
        "id": "t6dVpIINYklI"
      }
    },
    {
      "cell_type": "markdown",
      "source": [
        "I chose a box plot because:\n",
        "\n",
        "It is perfect for identifying outliers and spread of continuous numerical data.\n",
        "\n",
        "It provides quick visual cues for median, quartiles, and extreme values.\n",
        "\n",
        "Freight costs often have high variability due to differing shipment modes, distances, and package sizes, so visualizing this distribution is essential.\n",
        "\n"
      ],
      "metadata": {
        "id": "5aaW0BYyYklI"
      }
    },
    {
      "cell_type": "markdown",
      "source": [
        "##### 2. What is/are the insight(s) found from the chart?"
      ],
      "metadata": {
        "id": "ijmpgYnKYklI"
      }
    },
    {
      "cell_type": "markdown",
      "source": [
        "Median Freight Cost: Most deliveries have a low to moderate freight cost.\n",
        "\n",
        "Outliers: There are some significant outliers (beyond the whiskers), even after trimming to the 95th percentile.\n",
        "\n",
        "Cost Concentration: Freight costs are heavily concentrated in the lower range.\n",
        "\n"
      ],
      "metadata": {
        "id": "PSx9atu2YklI"
      }
    },
    {
      "cell_type": "markdown",
      "source": [
        "##### 3. Will the gained insights help creating a positive business impact?\n",
        "Are there any insights that lead to negative growth? Justify with specific reason."
      ],
      "metadata": {
        "id": "-JiQyfWJYklI"
      }
    },
    {
      "cell_type": "markdown",
      "source": [
        "Shipping Cost Management: Understanding that most shipments are low-cost can help optimize shipping contracts and negotiate better deals with logistics providers.\n",
        "\n",
        "Cost Forecasting: Businesses can focus forecasting models around the majority cost range rather than budgeting for the extreme outliers.\n",
        "\n",
        "Resource Allocation: Efficient allocation of transportation budgets to focus on regular, low-cost shipments.\n",
        "\n",
        "Potential Overcharging or Inefficiency: The presence of high-cost outliers may indicate:\n",
        "\n",
        "Poor vendor selection.\n",
        "\n",
        "Last-minute shipments using expensive modes (like air freight instead of sea).\n",
        "\n",
        "Inefficient route planning.\n",
        "\n",
        "If these high-cost shipments are frequent but not adding significant business value, they can erode profit margins and indicate negative operational efficiency."
      ],
      "metadata": {
        "id": "BcBbebzrYklV"
      }
    },
    {
      "cell_type": "markdown",
      "source": [
        "#### Chart - 3"
      ],
      "metadata": {
        "id": "EM7whBJCYoAo"
      }
    },
    {
      "cell_type": "code",
      "source": [
        "# Chart - 3 visualization code\n",
        "# Clean column names\n",
        "data.columns = data.columns.str.strip().str.replace(' ', '_').str.replace('(', '').str.replace(')', '')\n",
        "\n",
        "# Plotting the count plot for Shipment Mode\n",
        "plt.figure(figsize=(10, 6))\n",
        "sns.countplot(y='Shipment_Mode', data=data, order=data['Shipment_Mode'].value_counts().index, palette='viridis')\n",
        "plt.title('Frequency of Shipment Modes', fontsize=16)\n",
        "plt.xlabel('Number of Shipments')\n",
        "plt.ylabel('Shipment Mode')\n",
        "plt.show()"
      ],
      "metadata": {
        "id": "t6GMdE67YoAp"
      },
      "execution_count": null,
      "outputs": []
    },
    {
      "cell_type": "markdown",
      "source": [
        "##### 1. Why did you pick the specific chart?"
      ],
      "metadata": {
        "id": "fge-S5ZAYoAp"
      }
    },
    {
      "cell_type": "markdown",
      "source": [
        "I chose a count plot (bar chart) because:\n",
        "\n",
        "It is ideal for visualizing the frequency distribution of categorical variables.\n",
        "\n",
        "It clearly shows which shipment modes are most frequently used.\n",
        "\n",
        "Helps in understanding operational preferences and logistic strategies."
      ],
      "metadata": {
        "id": "5dBItgRVYoAp"
      }
    },
    {
      "cell_type": "markdown",
      "source": [
        "##### 2. What is/are the insight(s) found from the chart?"
      ],
      "metadata": {
        "id": "85gYPyotYoAp"
      }
    },
    {
      "cell_type": "markdown",
      "source": [
        "Most Common Mode: The most frequently used shipment mode is Air.\n",
        "\n",
        "Less Frequent Modes: Modes like Truck and Sea are used less often.\n",
        "\n",
        "Operational Preference: There is a heavy reliance on fast shipping (Air), which could indicate the need for quick deliveries."
      ],
      "metadata": {
        "id": "4jstXR6OYoAp"
      }
    },
    {
      "cell_type": "markdown",
      "source": [
        "##### 3. Will the gained insights help creating a positive business impact?\n",
        "Are there any insights that lead to negative growth? Justify with specific reason."
      ],
      "metadata": {
        "id": "RoGjAbkUYoAp"
      }
    },
    {
      "cell_type": "markdown",
      "source": [
        "Yes, here’s how:\n",
        "\n",
        "Cost Savings Potential: If air shipments dominate, the company can explore opportunities to shift some shipments to cheaper modes like sea or truck when time sensitivity is not critical.\n",
        "\n",
        "Vendor Negotiation: High air shipment volume could strengthen bargaining power with air freight providers.\n",
        "\n",
        "Delivery Optimization: Identifying overuse of air freight could help in creating optimized shipping schedules that balance cost and delivery time.\n",
        "\n",
        "**Insights leads to Negative Growth:**\n",
        "\n",
        "Excessive Air Shipping Costs: Heavy dependence on air freight could inflate shipping costs significantly, hurting profit margins in the long run.\n",
        "\n",
        "Potential Inventory Mismanagement: Frequent need for urgent deliveries may indicate poor inventory forecasting or supply chain bottlenecks that force last-minute orders.\n",
        "\n",
        "Sustainability Impact: Air freight has a higher carbon footprint, which could negatively impact companies focusing on green supply chain initiatives."
      ],
      "metadata": {
        "id": "zfJ8IqMcYoAp"
      }
    },
    {
      "cell_type": "markdown",
      "source": [
        "#### Chart - 4"
      ],
      "metadata": {
        "id": "4Of9eVA-YrdM"
      }
    },
    {
      "cell_type": "code",
      "source": [
        "# Chart - 4 visualization code\n",
        "# Clean column names\n",
        "data.columns = data.columns.str.strip().str.replace(' ', '_').str.replace('(', '').str.replace(')', '')\n",
        "\n",
        "# Convert relevant columns to numeric\n",
        "cols_to_convert = ['Unit_of_Measure_Per_Pack', 'Line_Item_Quantity', 'Line_Item_Value',\n",
        "                   'Pack_Price', 'Unit_Price', 'Weight_Kilograms', 'Freight_Cost_USD',\n",
        "                   'Line_Item_Insurance_USD']\n",
        "\n",
        "for col in cols_to_convert:\n",
        "    data[col] = pd.to_numeric(data[col], errors='coerce').fillna(0)\n",
        "\n",
        "# Filter out extreme outliers for weight (keep within 95th percentile)\n",
        "upper_limit = data['Weight_Kilograms'].quantile(0.95)\n",
        "df_filtered = data[data['Weight_Kilograms'] <= upper_limit]\n",
        "\n",
        "# Plotting the distribution of Weight\n",
        "plt.figure(figsize=(12, 6))\n",
        "sns.histplot(df_filtered['Weight_Kilograms'], bins=50, kde=True, color='green')\n",
        "plt.title('Distribution of Shipment Weight (Kilograms)', fontsize=16)\n",
        "plt.xlabel('Weight (Kilograms)')\n",
        "plt.ylabel('Frequency')\n",
        "plt.show()"
      ],
      "metadata": {
        "id": "irlUoxc8YrdO"
      },
      "execution_count": null,
      "outputs": []
    },
    {
      "cell_type": "markdown",
      "source": [
        "##### 1. Why did you pick the specific chart?"
      ],
      "metadata": {
        "id": "iky9q4vBYrdO"
      }
    },
    {
      "cell_type": "markdown",
      "source": [
        "I chose a Histogram with KDE (Kernel Density Estimation) because:\n",
        "\n",
        "It helps visualize the distribution and density of continuous variables.\n",
        "\n",
        "It clearly shows skewness, spread, and the presence of outliers.\n",
        "\n",
        "Weight is a logistics-critical variable that directly impacts shipping cost, shipment mode, and delivery efficiency."
      ],
      "metadata": {
        "id": "aJRCwT6DYrdO"
      }
    },
    {
      "cell_type": "markdown",
      "source": [
        "##### 2. What is/are the insight(s) found from the chart?"
      ],
      "metadata": {
        "id": "F6T5p64dYrdO"
      }
    },
    {
      "cell_type": "markdown",
      "source": [
        "Key Observations:\n",
        "The distribution is right-skewed.\n",
        "\n",
        "Most shipments are lightweight (clustered below ~500 kg).\n",
        "\n",
        "Very few shipments are heavy (beyond 1000 kg), indicating rare bulk deliveries.\n",
        "\n",
        "The frequency sharply declines as weight increases."
      ],
      "metadata": {
        "id": "Xx8WAJvtYrdO"
      }
    },
    {
      "cell_type": "markdown",
      "source": [
        "##### 3. Will the gained insights help creating a positive business impact?\n",
        "Are there any insights that lead to negative growth? Justify with specific reason."
      ],
      "metadata": {
        "id": "y-Ehk30pYrdP"
      }
    },
    {
      "cell_type": "markdown",
      "source": [
        "Positive Impacts:\n",
        "Optimize Shipment Modes: Since most shipments are lightweight, businesses can prioritize cost-effective, faster shipping methods like air freight for these orders.\n",
        "\n",
        "Vendor and Route Selection: Lightweight shipments allow for flexible logistics options and route optimizations.\n",
        "\n",
        "Inventory Forecasting: Knowing that the majority of shipments are light can reduce warehousing and transportation cost assumptions.\n",
        "\n",
        "Are there any insights that lead to negative growth?\n",
        "Yes, potential risks include:\n",
        "\n",
        "Missed Bulk Shipping Opportunities: If the company is only shipping small loads, it may be missing out on bulk discounts and lower per-unit shipping rates.\n",
        "\n",
        "High Frequency, Low Volume: Frequent lightweight shipments could lead to increased handling and packaging costs, driving operational inefficiencies.\n",
        "\n",
        "Supply Chain Stress: The system may be configured to frequently handle many small shipments rather than fewer, larger ones, which may overburden resources."
      ],
      "metadata": {
        "id": "jLNxxz7MYrdP"
      }
    },
    {
      "cell_type": "markdown",
      "source": [
        "#### Chart - 5"
      ],
      "metadata": {
        "id": "bamQiAODYuh1"
      }
    },
    {
      "cell_type": "code",
      "source": [
        "# Chart - 5 visualization code\n",
        "# Clean column names\n",
        "data.columns = data.columns.str.strip().str.replace(' ', '_').str.replace('(', '').str.replace(')', '')\n",
        "\n",
        "# Convert relevant columns to numeric\n",
        "cols_to_convert = ['Unit_of_Measure_Per_Pack', 'Line_Item_Quantity', 'Line_Item_Value',\n",
        "                   'Pack_Price', 'Unit_Price', 'Weight_Kilograms', 'Freight_Cost_USD',\n",
        "                   'Line_Item_Insurance_USD']\n",
        "\n",
        "for col in cols_to_convert:\n",
        "    data[col] = pd.to_numeric(data[col], errors='coerce').fillna(0)\n",
        "\n",
        "# Filter out extreme outliers for better visibility\n",
        "upper_limit_weight = data['Weight_Kilograms'].quantile(0.95)\n",
        "upper_limit_freight = data['Freight_Cost_USD'].quantile(0.95)\n",
        "df_filtered = data[(data['Weight_Kilograms'] <= upper_limit_weight) & (data['Freight_Cost_USD'] <= upper_limit_freight)]\n",
        "\n",
        "# Plotting the scatter plot\n",
        "plt.figure(figsize=(12, 6))\n",
        "sns.scatterplot(x='Weight_Kilograms', y='Freight_Cost_USD', data=df_filtered, alpha=0.6, color='purple')\n",
        "plt.title('Freight Cost vs. Shipment Weight', fontsize=16)\n",
        "plt.xlabel('Weight (Kilograms)')\n",
        "plt.ylabel('Freight Cost (USD)')\n",
        "plt.show()\n"
      ],
      "metadata": {
        "id": "TIJwrbroYuh3"
      },
      "execution_count": null,
      "outputs": []
    },
    {
      "cell_type": "markdown",
      "source": [
        "##### 1. Why did you pick the specific chart?"
      ],
      "metadata": {
        "id": "QHF8YVU7Yuh3"
      }
    },
    {
      "cell_type": "markdown",
      "source": [
        " chose a scatter plot because:\n",
        "\n",
        "It is the best visual tool to explore relationships between two continuous variables.\n",
        "\n",
        "It helps identify correlations, clusters, outliers, and trends.\n",
        "\n",
        "It is perfect for cost-related logistic analysis to understand how weight drives freight costs."
      ],
      "metadata": {
        "id": "dcxuIMRPYuh3"
      }
    },
    {
      "cell_type": "markdown",
      "source": [
        "##### 2. What is/are the insight(s) found from the chart?"
      ],
      "metadata": {
        "id": "GwzvFGzlYuh3"
      }
    },
    {
      "cell_type": "markdown",
      "source": [
        "Key Insights:\n",
        "Positive Correlation: There is a visible upward trend — as shipment weight increases, freight cost also tends to increase.\n",
        "\n",
        "Cost Variability: Even for shipments with similar weights, freight costs can vary significantly. This could be due to factors like:\n",
        "\n",
        "Shipment mode\n",
        "\n",
        "Shipping distance\n",
        "\n",
        "Urgency\n",
        "\n",
        "Data Clustering: Most shipments are concentrated at lower weights and lower freight costs.\n",
        "\n",
        "Outliers: A few shipments have much higher freight costs for moderate weights, which may indicate inefficient shipping decisions or premium services."
      ],
      "metadata": {
        "id": "uyqkiB8YYuh3"
      }
    },
    {
      "cell_type": "markdown",
      "source": [
        "##### 3. Will the gained insights help creating a positive business impact?\n",
        "Are there any insights that lead to negative growth? Justify with specific reason."
      ],
      "metadata": {
        "id": "qYpmQ266Yuh3"
      }
    },
    {
      "cell_type": "markdown",
      "source": [
        "Positive Impacts:\n",
        "Cost Control: Understanding this relationship helps logistics teams optimize shipping strategies for different weight brackets.\n",
        "\n",
        "Shipping Mode Optimization: By analyzing cases where moderate-weight shipments incurred high freight costs, the company can reconsider shipping modes or renegotiate vendor contracts.\n",
        "\n",
        "Forecasting Models: This can improve cost prediction models for future shipments based on weight.\n",
        "\n",
        "Negative Impact :\n",
        "Cost Inefficiency: The variability in freight costs for shipments of similar weight suggests possible inefficiencies or inconsistencies in shipping practices.\n",
        "\n",
        "Vendor Selection Risk: Frequent use of premium shipping options for non-critical deliveries can erode profit margins.\n",
        "\n",
        "Potential Customer Dissatisfaction: If customers are charged based on fluctuating freight costs, inconsistent pricing could negatively affect trust."
      ],
      "metadata": {
        "id": "_WtzZ_hCYuh4"
      }
    },
    {
      "cell_type": "markdown",
      "source": [
        "#### Chart - 6"
      ],
      "metadata": {
        "id": "OH-pJp9IphqM"
      }
    },
    {
      "cell_type": "code",
      "source": [
        "# Chart - 6 visualization code\n",
        "# Clean column names\n",
        "data.columns = data.columns.str.strip().str.replace(' ', '_').str.replace('(', '').str.replace(')', '')\n",
        "\n",
        "# Convert relevant columns to numeric\n",
        "cols_to_convert = ['Unit_of_Measure_Per_Pack', 'Line_Item_Quantity', 'Line_Item_Value',\n",
        "                   'Pack_Price', 'Unit_Price', 'Weight_Kilograms', 'Freight_Cost_USD',\n",
        "                   'Line_Item_Insurance_USD']\n",
        "\n",
        "for col in cols_to_convert:\n",
        "    data[col] = pd.to_numeric(data[col], errors='coerce').fillna(0)\n",
        "\n",
        "# Extract year from 'Scheduled_Delivery_Date'\n",
        "data['Scheduled_Delivery_Date'] = pd.to_datetime(data['Scheduled_Delivery_Date'], errors='coerce')\n",
        "data['Delivery_Year'] = data['Scheduled_Delivery_Date'].dt.year\n",
        "\n",
        "# Filter data to remove extreme outliers for clear visualization\n",
        "upper_limit_weight = data['Weight_Kilograms'].quantile(0.95)\n",
        "upper_limit_freight = data['Freight_Cost_USD'].quantile(0.95)\n",
        "\n",
        "df_filtered = data[(data['Weight_Kilograms'] <= upper_limit_weight) &\n",
        "                 (data['Freight_Cost_USD'] <= upper_limit_freight) &\n",
        "                 (~data['Shipment_Mode'].isnull()) &\n",
        "                 (~data['Delivery_Year'].isnull())]\n",
        "\n",
        "# Create Facet Grid\n",
        "g = sns.FacetGrid(df_filtered, col=\"Shipment_Mode\", hue=\"Delivery_Year\", col_wrap=3, height=5, palette=\"viridis\")\n",
        "g.map_dataframe(sns.scatterplot, x=\"Weight_Kilograms\", y=\"Freight_Cost_USD\", alpha=0.7)\n",
        "g.add_legend()\n",
        "g.set_axis_labels(\"Weight (Kilograms)\", \"Freight Cost (USD)\")\n",
        "g.fig.suptitle(\"Multivariate Analysis: Freight Cost vs Weight by Shipment Mode and Year\", fontsize=16, y=1.02)\n",
        "plt.show()"
      ],
      "metadata": {
        "id": "kuRf4wtuphqN"
      },
      "execution_count": null,
      "outputs": []
    },
    {
      "cell_type": "markdown",
      "source": [
        "##### 1. Why did you pick the specific chart?"
      ],
      "metadata": {
        "id": "bbFf2-_FphqN"
      }
    },
    {
      "cell_type": "markdown",
      "source": [
        "A Facet Grid Scatter Plot is selected because:\n",
        "\n",
        "It enables comparison across categories (Shipment Modes) in separate subplots.\n",
        "\n",
        "It adds another variable (like Year of shipment) to track trends over time.\n",
        "\n",
        "It is highly effective when exploring multi-dimensional patterns while retaining visual clarity."
      ],
      "metadata": {
        "id": "loh7H2nzphqN"
      }
    },
    {
      "cell_type": "markdown",
      "source": [
        "##### 2. What is/are the insight(s) found from the chart?"
      ],
      "metadata": {
        "id": "_ouA3fa0phqN"
      }
    },
    {
      "cell_type": "markdown",
      "source": [
        "Key Insights:\n",
        "Cost-Weight Consistency: Across most shipment modes, heavier shipments consistently lead to higher freight costs.\n",
        "\n",
        "Year-on-Year Cost Variance: Freight costs for similar weight ranges can vary significantly between years, indicating price fluctuations or changing vendor contracts.\n",
        "\n",
        "Mode-Specific Behavior:\n",
        "\n",
        "Air shipments consistently have higher costs per weight.\n",
        "\n",
        "Sea shipments can carry heavier loads at lower costs.\n",
        "\n",
        "Volume Clustering: Most shipments are concentrated in low to mid-weight ranges, suggesting a common product size profile."
      ],
      "metadata": {
        "id": "VECbqPI7phqN"
      }
    },
    {
      "cell_type": "markdown",
      "source": [
        "##### 3. Will the gained insights help creating a positive business impact?\n",
        "Are there any insights that lead to negative growth? Justify with specific reason."
      ],
      "metadata": {
        "id": "Seke61FWphqN"
      }
    },
    {
      "cell_type": "markdown",
      "source": [
        "Positive Impacts:\n",
        "Data-Driven Negotiation: Insights on year-wise cost fluctuations can help negotiate better contracts with shipping partners.\n",
        "\n",
        "Mode Optimization: Understanding mode-specific cost structures can help optimize mode selection based on weight and urgency.\n",
        "\n",
        "Budget Forecasting: Year-based freight cost trends can help in better logistics budgeting for future periods.\n",
        "\n",
        "Factors that may contribute to Negative Impact:\n",
        "Potential Overpayment: Year-on-year cost increases for similar weight shipments may indicate poor vendor management or lack of price monitoring.\n",
        "\n",
        "Inconsistent Mode Selection: Using expensive shipping modes unnecessarily (like air for non-urgent deliveries) can erode profit margins.\n",
        "\n",
        "Yearly Cost Escalation: If unmonitored, these rising costs can negatively impact operating margins over time."
      ],
      "metadata": {
        "id": "DW4_bGpfphqN"
      }
    },
    {
      "cell_type": "markdown",
      "source": [
        "#### Chart - 7"
      ],
      "metadata": {
        "id": "PIIx-8_IphqN"
      }
    },
    {
      "cell_type": "code",
      "source": [
        "# Chart - 7 visualization code\n",
        "# Clean column names\n",
        "data.columns = data.columns.str.strip().str.replace(' ', '_').str.replace('(', '').str.replace(')', '')\n",
        "\n",
        "# Convert relevant columns to numeric\n",
        "data['Weight_Kilograms'] = pd.to_numeric(data['Weight_Kilograms'], errors='coerce').fillna(0)\n",
        "\n",
        "# Filter outliers for clear visualization\n",
        "upper_limit_weight = data['Weight_Kilograms'].quantile(0.95)\n",
        "df_filtered = data[data['Weight_Kilograms'] <= upper_limit_weight]\n",
        "\n",
        "# Plotting the histogram\n",
        "plt.figure(figsize=(12, 8))\n",
        "sns.histplot(df_filtered['Weight_Kilograms'], bins=30, kde=True, color='skyblue')\n",
        "plt.title('Histogram: Distribution of Shipment Weights', fontsize=16)\n",
        "plt.xlabel('Shipment Weight (Kilograms)')\n",
        "plt.ylabel('Frequency')\n",
        "plt.show()"
      ],
      "metadata": {
        "id": "lqAIGUfyphqO"
      },
      "execution_count": null,
      "outputs": []
    },
    {
      "cell_type": "markdown",
      "source": [
        "##### 1. Why did you pick the specific chart?"
      ],
      "metadata": {
        "id": "t27r6nlMphqO"
      }
    },
    {
      "cell_type": "markdown",
      "source": [
        "A histogram plot is ideal because:\n",
        "\n",
        "It shows frequency distribution of a continuous variable.\n",
        "\n",
        "It helps identify concentration ranges, spread, and skewness in the data.\n",
        "\n",
        "It visually detects normal, uniform, or skewed distributions, which is essential for logistics planning.\n",
        "\n",
        "The histogram is the most effective tool to quickly understand the volume distribution of shipment weights."
      ],
      "metadata": {
        "id": "iv6ro40sphqO"
      }
    },
    {
      "cell_type": "markdown",
      "source": [
        "##### 2. What is/are the insight(s) found from the chart?"
      ],
      "metadata": {
        "id": "r2jJGEOYphqO"
      }
    },
    {
      "cell_type": "markdown",
      "source": [
        "Right-Skewed Distribution:\n",
        "Most shipments are lightweight (low-weight shipments dominate the dataset), with a long tail for higher weights.\n",
        "\n",
        "Shipment Volume Clusters:\n",
        "A large number of shipments fall within the low to mid-weight range (0-200 kg).\n",
        "\n",
        "Low Frequency of Heavy Shipments:\n",
        "There are relatively fewer heavyweight shipments, which may suggest that most items are smaller or medium-sized goods.\n"
      ],
      "metadata": {
        "id": "Po6ZPi4hphqO"
      }
    },
    {
      "cell_type": "markdown",
      "source": [
        "##### 3. Will the gained insights help creating a positive business impact?\n",
        "Are there any insights that lead to negative growth? Justify with specific reason."
      ],
      "metadata": {
        "id": "b0JNsNcRphqO"
      }
    },
    {
      "cell_type": "markdown",
      "source": [
        "Positive Impacts:\n",
        "Better Freight Negotiation:\n",
        "Knowing that most shipments are lightweight allows the company to negotiate better pricing tiers with logistics providers for low-weight shipments.\n",
        "\n",
        "Optimized Shipment Mode Selection:\n",
        "Since most shipments are light, less expensive shipment modes (like sea or truck) can be preferred unless urgent.\n",
        "\n",
        "Inventory Management:\n",
        "High volume of small shipments indicates potential to consolidate shipments to further reduce costs.\n",
        "\n",
        "\n",
        "Can Contribute for negative impact:\n",
        "Overuse of Premium Shipping for Small Shipments:\n",
        "If lightweight shipments are frequently sent via expensive air freight, it could erode profit margins unnecessarily.\n",
        "\n",
        "Missed Consolidation Opportunities:\n",
        "A high frequency of small shipments may indicate lack of shipment bundling, increasing operational and shipping costs."
      ],
      "metadata": {
        "id": "xvSq8iUTphqO"
      }
    },
    {
      "cell_type": "markdown",
      "source": [
        "#### Chart - 8"
      ],
      "metadata": {
        "id": "BZR9WyysphqO"
      }
    },
    {
      "cell_type": "code",
      "source": [
        "# Chart - 8 visualization code\n",
        "# Clean column names\n",
        "data.columns = data.columns.str.strip().str.replace(' ', '_').str.replace('(', '').str.replace(')', '')\n",
        "\n",
        "# Convert relevant columns to numeric\n",
        "data['Weight_Kilograms'] = pd.to_numeric(data['Weight_Kilograms'], errors='coerce').fillna(0)\n",
        "data['Freight_Cost_USD'] = pd.to_numeric(data['Freight_Cost_USD'], errors='coerce').fillna(0)\n",
        "\n",
        "# Filter out records with zero weight to avoid division errors\n",
        "df_filtered = data[(data['Weight_Kilograms'] > 0) & (data['Freight_Cost_USD'] > 0)]\n",
        "\n",
        "# Create new column: Cost per Kilogram\n",
        "df_filtered['Cost_per_Kg'] = df_filtered['Freight_Cost_USD'] / df_filtered['Weight_Kilograms']\n",
        "\n",
        "# Remove outliers for visualization\n",
        "upper_limit_cost = df_filtered['Cost_per_Kg'].quantile(0.95)\n",
        "df_filtered = df_filtered[df_filtered['Cost_per_Kg'] <= upper_limit_cost]\n",
        "\n",
        "# Plotting the new column\n",
        "plt.figure(figsize=(12, 8))\n",
        "sns.boxplot(x='Shipment_Mode', y='Cost_per_Kg', data=df_filtered)\n",
        "plt.title('Cost Efficiency: Freight Cost per Kilogram by Shipment Mode', fontsize=16)\n",
        "plt.xlabel('Shipment Mode')\n",
        "plt.ylabel('Cost per Kilogram (USD)')\n",
        "plt.show()"
      ],
      "metadata": {
        "id": "TdPTWpAVphqO"
      },
      "execution_count": null,
      "outputs": []
    },
    {
      "cell_type": "markdown",
      "source": [
        "##### 1. Why did you pick the specific chart?"
      ],
      "metadata": {
        "id": "jj7wYXLtphqO"
      }
    },
    {
      "cell_type": "markdown",
      "source": [
        "I chose a box plot because:\n",
        "\n",
        "It effectively shows distribution, medians, and outliers across categories.\n",
        "\n",
        "It is perfect for comparing cost efficiency (Cost per Kg) across shipment modes.\n",
        "\n",
        "The chart helps visually identify which shipment modes are consistently more or less cost-efficient."
      ],
      "metadata": {
        "id": "Ob8u6rCTphqO"
      }
    },
    {
      "cell_type": "markdown",
      "source": [
        "##### 2. What is/are the insight(s) found from the chart?"
      ],
      "metadata": {
        "id": "eZrbJ2SmphqO"
      }
    },
    {
      "cell_type": "markdown",
      "source": [
        "Key Insights:\n",
        "Air shipments have the highest cost per kg, confirming their premium pricing structure.\n",
        "\n",
        "Sea shipments consistently offer the lowest cost per kg, making them the most cost-efficient option for heavy shipments.\n",
        "\n",
        "Truck shipments show moderate and variable cost per kg, indicating possible vendor differences or route-specific pricing.\n",
        "\n",
        "There are some significant outliers in all shipment modes, suggesting occasional inefficient or urgent shipments."
      ],
      "metadata": {
        "id": "mZtgC_hjphqO"
      }
    },
    {
      "cell_type": "markdown",
      "source": [
        "##### 3. Will the gained insights help creating a positive business impact?\n",
        "Are there any insights that lead to negative growth? Justify with specific reason."
      ],
      "metadata": {
        "id": "rFu4xreNphqO"
      }
    },
    {
      "cell_type": "markdown",
      "source": [
        " Positive Impacts:\n",
        "Improved Cost Planning:\n",
        "\n",
        "The client can develop mode-specific cost benchmarks and proactively monitor shipping cost efficiency.\n",
        "\n",
        "Better Mode Selection:\n",
        "\n",
        "For low-weight, non-urgent shipments, more cost-efficient options like sea or truck should be prioritized.\n",
        "\n",
        "Vendor Performance Monitoring:\n",
        "\n",
        "Outliers can trigger vendor audits to understand why certain shipments are significantly more expensive.\n",
        "\n",
        "Factors that can cause negative impact:\n",
        "Cost Leakages in Air Shipments:\n",
        "\n",
        "Frequent use of high-cost per kg shipments may erode profitability, especially if urgency isn’t justified.\n",
        "\n",
        "Poor Vendor Contracts:\n",
        "\n",
        "Inconsistent cost per kg across similar shipment modes could indicate unoptimized vendor pricing agreements.\n",
        "\n",
        "Process Gaps:\n",
        "\n",
        "Outliers suggest potential lack of oversight in shipment approvals, leading to occasional overpayment."
      ],
      "metadata": {
        "id": "ey_0qi68phqO"
      }
    },
    {
      "cell_type": "markdown",
      "source": [
        "#### Chart - 9"
      ],
      "metadata": {
        "id": "YJ55k-q6phqO"
      }
    },
    {
      "cell_type": "code",
      "source": [
        "# Chart - 9 visualization code\n",
        "# Clean column names\n",
        "data.columns = data.columns.str.strip().str.replace(' ', '_').str.replace('(', '').str.replace(')', '')\n",
        "\n",
        "# Convert relevant columns to numeric\n",
        "data['Weight_Kilograms'] = pd.to_numeric(data['Weight_Kilograms'], errors='coerce').fillna(0)\n",
        "data['Line_Item_Value'] = pd.to_numeric(data['Line_Item_Value'], errors='coerce').fillna(0)\n",
        "\n",
        "# Filter out records with zero weight to avoid division errors\n",
        "df_filtered = data[(data['Weight_Kilograms'] > 0) & (data['Line_Item_Value'] > 0)]\n",
        "\n",
        "# Create new column: Value per Kilogram\n",
        "df_filtered['Value_per_Kg'] = df_filtered['Line_Item_Value'] / df_filtered['Weight_Kilograms']\n",
        "\n",
        "# Remove outliers for clear visualization\n",
        "upper_limit_value = df_filtered['Value_per_Kg'].quantile(0.95)\n",
        "df_filtered = df_filtered[df_filtered['Value_per_Kg'] <= upper_limit_value]\n",
        "\n",
        "# Plotting the new column using boxplot\n",
        "plt.figure(figsize=(12, 8))\n",
        "sns.boxplot(x='Shipment_Mode', y='Value_per_Kg', data=df_filtered)\n",
        "plt.title('Value Density: Line Item Value per Kilogram by Shipment Mode', fontsize=16)\n",
        "plt.xlabel('Shipment Mode')\n",
        "plt.ylabel('Value per Kilogram (USD)')\n",
        "plt.show()"
      ],
      "metadata": {
        "id": "B2aS4O1ophqO"
      },
      "execution_count": null,
      "outputs": []
    },
    {
      "cell_type": "markdown",
      "source": [
        "##### 1. Why did you pick the specific chart?"
      ],
      "metadata": {
        "id": "gCFgpxoyphqP"
      }
    },
    {
      "cell_type": "markdown",
      "source": [
        "I chose a box plot because:\n",
        "\n",
        "It visually compares the distribution of value per kilogram across different shipment modes.\n",
        "\n",
        "It highlights medians, variability, and outliers in cost density for each shipping method.\n",
        "\n",
        "It helps to identify risky shipping patterns like high-value goods being shipped in low-security modes."
      ],
      "metadata": {
        "id": "TVxDimi2phqP"
      }
    },
    {
      "cell_type": "markdown",
      "source": [
        "##### 2. What is/are the insight(s) found from the chart?"
      ],
      "metadata": {
        "id": "OVtJsKN_phqQ"
      }
    },
    {
      "cell_type": "markdown",
      "source": [
        "Key Insights:\n",
        "Air shipments tend to carry the highest value per kg, indicating that urgent, high-value shipments are rightly prioritized.\n",
        "\n",
        "Sea and truck shipments typically carry lower value per kg, which is expected as they are often used for bulk, lower-cost shipments.\n",
        "\n",
        "Some outliers show that extremely high-value shipments are occasionally moved by truck or other less secure modes.\n",
        "\n",
        "Value density varies significantly across all shipment modes, indicating inconsistent shipping policies."
      ],
      "metadata": {
        "id": "ngGi97qjphqQ"
      }
    },
    {
      "cell_type": "markdown",
      "source": [
        "##### 3. Will the gained insights help creating a positive business impact?\n",
        "Are there any insights that lead to negative growth? Justify with specific reason."
      ],
      "metadata": {
        "id": "lssrdh5qphqQ"
      }
    },
    {
      "cell_type": "markdown",
      "source": [
        "Positive Impacts:\n",
        "Risk Management:\n",
        "\n",
        "High-value shipments can be flagged for security audits or insurance reviews.\n",
        "\n",
        "Mode Optimization:\n",
        "\n",
        "The client can prioritize air shipment for high-value, low-weight items and sea/truck for low-value bulk shipments.\n",
        "\n",
        "Fraud & Loss Prevention:\n",
        "\n",
        "Helps identify when low-security modes are used for high-value goods, increasing security focus on vulnerable shipments.\n",
        "\n",
        "Factors that may contribute to negative impact:\n",
        "Security Risk:\n",
        "\n",
        "Occasional movement of high-value shipments through sea or truck may expose the company to higher theft or damage risk without adequate protection.\n",
        "\n",
        "Insurance Misalignment:\n",
        "\n",
        "If high-value shipments are not properly insured or not shipped via appropriate modes, it can lead to major financial losses.\n",
        "\n",
        "Process Inefficiency:\n",
        "\n",
        "Lack of a shipment value threshold policy can lead to inconsistencies and missed cost or security optimizations."
      ],
      "metadata": {
        "id": "tBpY5ekJphqQ"
      }
    },
    {
      "cell_type": "markdown",
      "source": [
        "#### Chart - 11"
      ],
      "metadata": {
        "id": "x-EpHcCOp1ci"
      }
    },
    {
      "cell_type": "code",
      "source": [
        "# Chart - 11 visualization code\n",
        "# Clean column names\n",
        "data.columns = data.columns.str.strip().str.replace(' ', '_').str.replace('(', '').str.replace(')', '')\n",
        "\n",
        "# Convert relevant columns to numeric\n",
        "data['Line_Item_Value'] = pd.to_numeric(data['Line_Item_Value'], errors='coerce').fillna(0)\n",
        "data['Freight_Cost_USD'] = pd.to_numeric(data['Freight_Cost_USD'], errors='coerce').fillna(0)\n",
        "\n",
        "# Create new column: Profit per Shipment\n",
        "data['Profit_per_Shipment'] = data['Line_Item_Value'] - data['Freight_Cost_USD']\n",
        "\n",
        "# Filter out extreme outliers for better visualization\n",
        "upper_limit_profit = data['Profit_per_Shipment'].quantile(0.95)\n",
        "lower_limit_profit = data['Profit_per_Shipment'].quantile(0.05)\n",
        "df_filtered = data[(data['Profit_per_Shipment'] <= upper_limit_profit) & (data['Profit_per_Shipment'] >= lower_limit_profit)]\n",
        "\n",
        "# Plotting the new column using boxplot\n",
        "plt.figure(figsize=(12, 8))\n",
        "sns.boxplot(x='Shipment_Mode', y='Profit_per_Shipment', data=df_filtered)\n",
        "plt.title('Profit per Shipment by Shipment Mode', fontsize=16)\n",
        "plt.xlabel('Shipment Mode')\n",
        "plt.ylabel('Profit per Shipment (USD)')\n",
        "plt.show()\n"
      ],
      "metadata": {
        "id": "mAQTIvtqp1cj"
      },
      "execution_count": null,
      "outputs": []
    },
    {
      "cell_type": "markdown",
      "source": [
        "##### 1. Why did you pick the specific chart?"
      ],
      "metadata": {
        "id": "X_VqEhTip1ck"
      }
    },
    {
      "cell_type": "markdown",
      "source": [
        "I selected a box plot because:\n",
        "\n",
        "It effectively compares the distribution of profit margins across different shipment modes.\n",
        "\n",
        "It highlights medians, variability, and potential loss-making shipments.\n",
        "\n",
        "It visually identifies which shipment modes offer consistent profitability and which may result in loss."
      ],
      "metadata": {
        "id": "-vsMzt_np1ck"
      }
    },
    {
      "cell_type": "markdown",
      "source": [
        "##### 2. What is/are the insight(s) found from the chart?"
      ],
      "metadata": {
        "id": "8zGJKyg5p1ck"
      }
    },
    {
      "cell_type": "markdown",
      "source": [
        "Key Insights:\n",
        "Air shipments have the highest profit variability and show multiple shipments with very low or even negative profit margins.\n",
        "\n",
        "Sea shipments show more stable profit margins, indicating better cost efficiency.\n",
        "\n",
        "Truck shipments show moderate but consistent profits.\n",
        "\n",
        "Some negative profit outliers exist in all shipment modes, which means shipping costs exceeded the shipment value.Answer Here"
      ],
      "metadata": {
        "id": "ZYdMsrqVp1ck"
      }
    },
    {
      "cell_type": "markdown",
      "source": [
        "##### 3. Will the gained insights help creating a positive business impact?\n",
        "Are there any insights that lead to negative growth? Justify with specific reason."
      ],
      "metadata": {
        "id": "PVzmfK_Ep1ck"
      }
    },
    {
      "cell_type": "markdown",
      "source": [
        "Positive Impacts:\n",
        "Profitability Tracking:\n",
        "\n",
        "This analysis enables the company to track and maximize profitability per shipment mode.\n",
        "\n",
        "Process Optimization:\n",
        "\n",
        "The company can review shipments with low or negative profit and refine shipping decisions.\n",
        "\n",
        "Pricing Strategy:\n",
        "\n",
        "This metric can help adjust selling prices or freight recovery charges for low-margin shipments.\n",
        "\n",
        "Vendor Negotiation:\n",
        "\n",
        "Helps in evaluating which vendors or routes consistently lead to low-profit shipments.\n",
        "\n",
        "Factors that contribute to Negative impacts:\n",
        "Negative Profit Shipments:\n",
        "\n",
        "Repeated negative profit shipments suggest significant cost inefficiencies, poor pricing, or unoptimized shipping decisions.\n",
        "\n",
        "Misaligned Shipment Mode Selection:\n",
        "\n",
        "Choosing premium shipment modes (like air) for low-margin shipments can quickly erode overall profitability.\n",
        "\n",
        "Hidden Process Gaps:\n",
        "\n",
        "Without continuous monitoring, these profit leakages can go unnoticed and accumulate into substantial losses."
      ],
      "metadata": {
        "id": "druuKYZpp1ck"
      }
    },
    {
      "cell_type": "markdown",
      "source": [
        "#### Chart - 12"
      ],
      "metadata": {
        "id": "n3dbpmDWp1ck"
      }
    },
    {
      "cell_type": "code",
      "source": [
        "# Chart - 12 visualization code\n",
        "# Clean column names\n",
        "data.columns = data.columns.str.strip().str.replace(' ', '_').str.replace('(', '').str.replace(')', '')\n",
        "\n",
        "# Convert relevant columns to numeric\n",
        "cols_to_convert = ['Unit_of_Measure_Per_Pack', 'Line_Item_Quantity', 'Line_Item_Value',\n",
        "                   'Pack_Price', 'Unit_Price', 'Weight_Kilograms', 'Freight_Cost_USD',\n",
        "                   'Line_Item_Insurance_USD']\n",
        "\n",
        "for col in cols_to_convert:\n",
        "    data[col] = pd.to_numeric(data[col], errors='coerce').fillna(0)\n",
        "\n",
        "# Extract year from 'Scheduled_Delivery_Date'\n",
        "data['Scheduled_Delivery_Date'] = pd.to_datetime(data['Scheduled_Delivery_Date'], errors='coerce')\n",
        "data['Delivery_Year'] = data['Scheduled_Delivery_Date'].dt.year\n",
        "\n",
        "# Filter data to remove extreme outliers\n",
        "upper_limit_weight = data['Weight_Kilograms'].quantile(0.95)\n",
        "df_filtered = data[(data['Weight_Kilograms'] <= upper_limit_weight) &\n",
        "                 (~data['Shipment_Mode'].isnull()) &\n",
        "                 (~data['Delivery_Year'].isnull())]\n",
        "\n",
        "# Plotting the multivariate violin plot\n",
        "plt.figure(figsize=(14, 8))\n",
        "sns.violinplot(x='Shipment_Mode', y='Weight_Kilograms', hue='Delivery_Year', data=df_filtered, split=True)\n",
        "plt.title('Multivariate Analysis: Distribution of Shipment Weight by Mode and Year', fontsize=16)\n",
        "plt.xlabel('Shipment Mode')\n",
        "plt.ylabel('Weight (Kilograms)')\n",
        "plt.legend(title='Delivery Year', bbox_to_anchor=(1.05, 1), loc=2)\n",
        "plt.show()"
      ],
      "metadata": {
        "id": "bwevp1tKp1ck"
      },
      "execution_count": null,
      "outputs": []
    },
    {
      "cell_type": "markdown",
      "source": [
        "##### 1. Why did you pick the specific chart?"
      ],
      "metadata": {
        "id": "ylSl6qgtp1ck"
      }
    },
    {
      "cell_type": "markdown",
      "source": [
        "The violin plot is ideal because:\n",
        "\n",
        "It shows distribution, density, spread, and outliers across categories.\n",
        "\n",
        "It combines the benefits of boxplots and kernel density estimation.\n",
        "\n",
        "It is highly effective in visualizing multi-year, multi-mode shipment data to detect trends and anomalies.\n",
        "\n",
        "It’s especially useful when we need to understand both the spread and concentration of values across multiple dimensions (like shipment mode and year)."
      ],
      "metadata": {
        "id": "m2xqNkiQp1ck"
      }
    },
    {
      "cell_type": "markdown",
      "source": [
        "##### 2. What is/are the insight(s) found from the chart?"
      ],
      "metadata": {
        "id": "ZWILFDl5p1ck"
      }
    },
    {
      "cell_type": "markdown",
      "source": [
        "Key Insights:\n",
        "Air shipments generally show lower weight distributions with a few significant outliers, indicating occasional bulk shipments via air.\n",
        "\n",
        "Sea shipments handle a wider range of weights, with a higher concentration of heavy shipments.\n",
        "\n",
        "Truck and other shipment modes show mixed distributions, but tend to handle moderately weighted shipments.\n",
        "\n",
        "Yearly Variability:\n",
        "\n",
        "Some shipment modes (especially air) show fluctuations in shipment weight distributions across years, indicating changing logistics strategies or supply chain issues."
      ],
      "metadata": {
        "id": "x-lUsV2mp1ck"
      }
    },
    {
      "cell_type": "markdown",
      "source": [
        "##### 3. Will the gained insights help creating a positive business impact?\n",
        "Are there any insights that lead to negative growth? Justify with specific reason."
      ],
      "metadata": {
        "id": "M7G43BXep1ck"
      }
    },
    {
      "cell_type": "markdown",
      "source": [
        "Positive Impacts:\n",
        "Better Shipment Mode Planning:\n",
        "\n",
        "Knowing the weight distributions per mode helps logistics teams plan the most cost-effective and appropriate shipment strategies.\n",
        "\n",
        "Yearly Performance Review:\n",
        "\n",
        "Identifying changing patterns across years can help evaluate the effectiveness of previous shipping decisions and adjust procurement strategies.\n",
        "\n",
        "Targeted Cost Reduction:\n",
        "\n",
        "Insights from this plot can help minimize unnecessary use of expensive air freight for heavier shipments.\n",
        "\n",
        "fators that may cause negative impacts:\n",
        "Sub-optimal Shipment Mode Use:\n",
        "\n",
        "Using air freight for occasional heavy shipments could indicate poor planning, leading to higher costs and lower profit margins.\n",
        "\n",
        "Process Inefficiency:\n",
        "\n",
        "The wide variability across years without clear trend improvements suggests lack of consistent shipping policies or planning cycles.\n",
        "\n",
        "Uncontrolled Year-on-Year Variability:\n",
        "\n",
        "If not monitored, the changing patterns can result in logistical unpredictability and unstable shipping budgets."
      ],
      "metadata": {
        "id": "5wwDJXsLp1cl"
      }
    },
    {
      "cell_type": "markdown",
      "source": [
        "#### Chart - 13"
      ],
      "metadata": {
        "id": "Ag9LCva-p1cl"
      }
    },
    {
      "cell_type": "code",
      "source": [
        "# Chart - 13 visualization code\n",
        "# Convert relevant columns to numeric\n",
        "cols_to_convert = ['Unit_of_Measure_Per_Pack', 'Line_Item_Quantity', 'Line_Item_Value',\n",
        "                   'Pack_Price', 'Unit_Price', 'Weight_Kilograms', 'Freight_Cost_USD',\n",
        "                   'Line_Item_Insurance_USD']\n",
        "\n",
        "for col in cols_to_convert:\n",
        "    data[col] = pd.to_numeric(data[col], errors='coerce').fillna(0)\n",
        "\n",
        "# Filter outliers for better visibility\n",
        "upper_limit_weight = data['Weight_Kilograms'].quantile(0.95)\n",
        "upper_limit_freight = data['Freight_Cost_USD'].quantile(0.95)\n",
        "upper_limit_value = data['Line_Item_Value'].quantile(0.95)\n",
        "\n",
        "df_filtered = data[(data['Weight_Kilograms'] <= upper_limit_weight) &\n",
        "                 (data['Freight_Cost_USD'] <= upper_limit_freight) &\n",
        "                 (data['Line_Item_Value'] <= upper_limit_value)]\n",
        "\n",
        "# Plotting the Bubble Plot\n",
        "plt.figure(figsize=(14, 8))\n",
        "sns.scatterplot(\n",
        "    x='Weight_Kilograms',\n",
        "    y='Freight_Cost_USD',\n",
        "    size='Line_Item_Value',\n",
        "    hue='Shipment_Mode',\n",
        "    data=df_filtered,\n",
        "    alpha=0.6,\n",
        "    sizes=(50, 1000)\n",
        ")\n",
        "\n",
        "plt.title('Multivariate Analysis: Freight Cost vs. Weight with Shipment Mode & Value', fontsize=16)\n",
        "plt.xlabel('Weight (Kilograms)')\n",
        "plt.ylabel('Freight Cost (USD)')\n",
        "plt.legend(bbox_to_anchor=(1.05, 1), loc=2, borderaxespad=0.)\n",
        "plt.show()"
      ],
      "metadata": {
        "id": "EUfxeq9-p1cl"
      },
      "execution_count": null,
      "outputs": []
    },
    {
      "cell_type": "markdown",
      "source": [
        "##### 1. Why did you pick the specific chart?"
      ],
      "metadata": {
        "id": "E6MkPsBcp1cl"
      }
    },
    {
      "cell_type": "markdown",
      "source": [
        "A bubble plot is excellent for multivariate analysis because:\n",
        "\n",
        "It simultaneously shows relationships between three or more variables.\n",
        "\n",
        "Bubble size can represent monetary impact (Line_Item_Value).\n",
        "\n",
        "Bubble color can add a categorical dimension (Shipment_Mode).\n",
        "\n",
        "This plot provides a rich, multi-dimensional view of supply chain efficiency."
      ],
      "metadata": {
        "id": "V22bRsFWp1cl"
      }
    },
    {
      "cell_type": "markdown",
      "source": [
        "##### 2. What is/are the insight(s) found from the chart?"
      ],
      "metadata": {
        "id": "2cELzS2fp1cl"
      }
    },
    {
      "cell_type": "markdown",
      "source": [
        "Key Insights:\n",
        "Clear Relationship: Heavier shipments tend to have higher freight costs.\n",
        "\n",
        "Shipment Mode Trends:\n",
        "\n",
        "Air shipments often have higher freight costs for lighter weights.\n",
        "\n",
        "Sea shipments handle heavier weights with relatively lower costs.\n",
        "\n",
        "Value Concentration: Some high-value shipments are lightweight but still incur high shipping costs—indicating premium shipping decisions.\n",
        "\n",
        "Diverse Cost Behavior: Even shipments with similar weights have different costs depending on the shipment mode."
      ],
      "metadata": {
        "id": "ozQPc2_Ip1cl"
      }
    },
    {
      "cell_type": "markdown",
      "source": [
        "##### 3. Will the gained insights help creating a positive business impact?\n",
        "Are there any insights that lead to negative growth? Justify with specific reason."
      ],
      "metadata": {
        "id": "3MPXvC8up1cl"
      }
    },
    {
      "cell_type": "markdown",
      "source": [
        "Positive Impacts:\n",
        "Shipping Mode Selection: Helps logistics teams choose cost-efficient shipping modes based on weight and item value.\n",
        "\n",
        "Premium Shipment Control: Highlights cases where high-cost shipping might be unnecessarily applied to low-weight items, prompting policy revisions.\n",
        "\n",
        "Vendor Negotiation: Supports better contract negotiation based on weight-cost trends across shipping modes.\n",
        "\n",
        "Factors that contribute for negative impact:\n",
        "Inefficient Mode Usage: Using expensive shipping modes (like air) for low-weight, low-value items may increase operational costs unnecessarily.\n",
        "\n",
        "High Variability Risk: Different shipping modes and value levels can cause pricing inconsistency, potentially impacting customer satisfaction if costs are passed on.\n",
        "\n",
        "Potential Over-reliance on Premium Freight: May limit profit margins if not balanced carefully."
      ],
      "metadata": {
        "id": "GL8l1tdLp1cl"
      }
    },
    {
      "cell_type": "markdown",
      "source": [
        "#### Chart - 14 - Correlation Heatmap"
      ],
      "metadata": {
        "id": "NC_X3p0fY2L0"
      }
    },
    {
      "cell_type": "code",
      "source": [
        "# Correlation Heatmap visualization code\n",
        "# Convert relevant columns to numeric\n",
        "cols_to_convert = ['Unit_of_Measure_Per_Pack', 'Line_Item_Quantity', 'Line_Item_Value',\n",
        "                   'Pack_Price', 'Unit_Price', 'Weight_Kilograms', 'Freight_Cost_USD',\n",
        "                   'Line_Item_Insurance_USD']\n",
        "\n",
        "for col in cols_to_convert:\n",
        "    data[col] = pd.to_numeric(data[col], errors='coerce').fillna(0)\n",
        "\n",
        "# Select numerical features for correlation\n",
        "selected_columns = ['Unit_of_Measure_Per_Pack', 'Line_Item_Quantity', 'Line_Item_Value',\n",
        "                    'Pack_Price', 'Unit_Price', 'Weight_Kilograms', 'Freight_Cost_USD',\n",
        "                    'Line_Item_Insurance_USD']\n",
        "\n",
        "# Compute correlation matrix\n",
        "correlation_matrix = data[selected_columns].corr()\n",
        "\n",
        "# Plot correlation heatmap\n",
        "plt.figure(figsize=(12, 8))\n",
        "sns.heatmap(correlation_matrix, annot=True, cmap='coolwarm', linewidths=0.5)\n",
        "plt.title('Correlation Heatmap of Supply Chain Variables', fontsize=16)\n",
        "plt.show()"
      ],
      "metadata": {
        "id": "xyC9zolEZNRQ"
      },
      "execution_count": null,
      "outputs": []
    },
    {
      "cell_type": "markdown",
      "source": [
        "##### 1. Why did you pick the specific chart?"
      ],
      "metadata": {
        "id": "UV0SzAkaZNRQ"
      }
    },
    {
      "cell_type": "markdown",
      "source": [
        "A correlation heatmap is the best visual to:\n",
        "\n",
        "Understand the strength and direction of relationships between multiple numerical variables simultaneously.\n",
        "\n",
        "Quickly spot strong positive or negative correlations.\n",
        "\n",
        "Identify variables that heavily influence each other in supply chain operations (like weight, quantity, cost, value).\n",
        "\n",
        "It provides a holistic, data-driven view of the dataset for strategic decision-making."
      ],
      "metadata": {
        "id": "DVPuT8LYZNRQ"
      }
    },
    {
      "cell_type": "markdown",
      "source": [
        "##### 2. What is/are the insight(s) found from the chart?"
      ],
      "metadata": {
        "id": "YPEH6qLeZNRQ"
      }
    },
    {
      "cell_type": "markdown",
      "source": [
        "Key Insights:\n",
        "Strong Positive Correlation:\n",
        "\n",
        "Line_Item_Quantity and Line_Item_Value (very high correlation): More items → higher value.\n",
        "\n",
        "Weight_Kilograms and Freight_Cost_USD: Heavier shipments → higher freight cost.\n",
        "\n",
        "Moderate Correlations:\n",
        "\n",
        "Line_Item_Value and Freight_Cost_USD: Costlier shipments often lead to higher shipping costs, but the relationship is weaker than expected, indicating pricing or shipping inconsistencies.\n",
        "\n",
        "Unit_Price moderately influences Line_Item_Value (expected as unit price × quantity = total value).\n",
        "\n",
        "Low or Negligible Correlations:\n",
        "\n",
        "Unit_of_Measure_Per_Pack has very little correlation with other variables, indicating it does not significantly influence costs or weights directly."
      ],
      "metadata": {
        "id": "bfSqtnDqZNRR"
      }
    },
    {
      "cell_type": "markdown",
      "source": [
        "#### Chart - 15 - Pair Plot"
      ],
      "metadata": {
        "id": "q29F0dvdveiT"
      }
    },
    {
      "cell_type": "code",
      "source": [
        "from typing_extensions import dataclass_transform\n",
        "# Pair Plot visualization code\n",
        "# Convert relevant columns to numeric\n",
        "cols_to_convert = ['Unit_of_Measure_Per_Pack', 'Line_Item_Quantity', 'Line_Item_Value',\n",
        "                   'Pack_Price', 'Unit_Price', 'Weight_Kilograms', 'Freight_Cost_USD',\n",
        "                   'Line_Item_Insurance_USD']\n",
        "\n",
        "for col in cols_to_convert:\n",
        "    data[col] = pd.to_numeric(data[col], errors='coerce').fillna(0)\n",
        "\n",
        "# Filter out extreme outliers (keep within 95th percentile for better plot visibility)\n",
        "for col in ['Line_Item_Quantity', 'Line_Item_Value', 'Freight_Cost_USD', 'Weight_Kilograms']:\n",
        "    upper_limit = data[col].quantile(0.95)\n",
        "    data = data[data[col] <= upper_limit]\n",
        "\n",
        "# Select variables for the pair plot\n",
        "selected_vars = ['Line_Item_Quantity', 'Line_Item_Value', 'Freight_Cost_USD', 'Weight_Kilograms']\n",
        "\n",
        "# Create pair plot\n",
        "sns.pairplot(data[selected_vars], diag_kind='kde', plot_kws={'alpha':0.5})\n",
        "plt.suptitle('Pair Plot of Key Supply Chain Variables', fontsize=16, y=1.02)\n",
        "plt.show()"
      ],
      "metadata": {
        "id": "o58-TEIhveiU"
      },
      "execution_count": null,
      "outputs": []
    },
    {
      "cell_type": "markdown",
      "source": [
        "##### 1. Why did you pick the specific chart?"
      ],
      "metadata": {
        "id": "EXh0U9oCveiU"
      }
    },
    {
      "cell_type": "markdown",
      "source": [
        "The pair plot is a powerful visualization tool for:\n",
        "\n",
        "Understanding correlations and relationships between multiple numerical variables at once.\n",
        "\n",
        "Quickly identifying trends, patterns, and potential outliers.\n",
        "\n",
        "Spotting clusters and multivariate outliers.\n",
        "\n",
        "It helps in identifying how different supply chain factors like quantity, cost, weight, and freight charges interact with each other."
      ],
      "metadata": {
        "id": "eMmPjTByveiU"
      }
    },
    {
      "cell_type": "markdown",
      "source": [
        "##### 2. What is/are the insight(s) found from the chart?"
      ],
      "metadata": {
        "id": "22aHeOlLveiV"
      }
    },
    {
      "cell_type": "markdown",
      "source": [
        "**Positive Correlation:**\n",
        "\n",
        "There is a clear positive relationship between Line_Item_Quantity and Line_Item_Value (as expected: more quantity → higher value).\n",
        "\n",
        "Weight_Kilograms is also positively related to both Line_Item_Quantity and Freight_Cost_USD, suggesting heavier shipments cost more to transport.\n",
        "\n",
        "**Moderate Correlation:**\n",
        "\n",
        "Freight_Cost_USD seems moderately associated with both Line_Item_Value and Weight_Kilograms, indicating that more expensive or heavier items tend to incur higher shipping costs.\n",
        "\n",
        "**Cluster Patterns:**\n",
        "\n",
        "Most data points are concentrated in the lower ranges of all variables, with a few higher-value and high-weight transactions forming outliers."
      ],
      "metadata": {
        "id": "uPQ8RGwHveiV"
      }
    },
    {
      "cell_type": "markdown",
      "source": [
        "## **5. Solution to Business Objective**"
      ],
      "metadata": {
        "id": "JcMwzZxoAimU"
      }
    },
    {
      "cell_type": "markdown",
      "source": [
        "#### What do you suggest the client to achieve Business Objective ?\n",
        "Based on the detailed exploratory data analysis and the insights derived from the univariate, bivariate, and multivariate plots, here are strategic recommendations to help the client achieve their business objectives efficiently:\n",
        "\n",
        "✅ Business Recommendations for the Client\n",
        "\n",
        "\n",
        "📌 1. Optimize Shipment Mode Selection\n",
        "Current Issue: Air shipments are frequently used, even for moderately heavy items, leading to higher freight costs.\n",
        "\n",
        "Recommendation:\n",
        "\n",
        "Reserve air freight for time-sensitive, lightweight, high-value items only.\n",
        "\n",
        "Shift heavier, less urgent shipments to sea or truck modes to significantly reduce shipping costs.\n",
        "\n",
        "Implement a shipment mode selection framework based on weight, urgency, and item value.\n",
        "\n",
        "📌 2. Implement Freight Cost Control Measures\n",
        "Current Issue: Freight costs show large variability for similar shipment weights and item values, suggesting inefficiencies.\n",
        "\n",
        "Recommendation:\n",
        "\n",
        "Perform freight cost benchmarking to compare against industry standards.\n",
        "\n",
        "Negotiate long-term contracts with logistics providers based on predictable shipping volumes and weight bands.\n",
        "\n",
        "Monitor cost trends year-on-year to detect overcharging or poor vendor performance.\n",
        "\n",
        "📌 3. Strengthen Inventory and Order Planning\n",
        "Current Issue: Yearly variations in shipment weights suggest last-minute, high-cost shipments due to inventory gaps.\n",
        "\n",
        "Recommendation:\n",
        "\n",
        "Improve demand forecasting and procurement scheduling to avoid emergency shipments.\n",
        "\n",
        "Consolidate orders where possible to reduce shipment frequency and shipping costs.\n",
        "\n",
        "Use predictive models to anticipate stock-outs and adjust replenishment cycles.\n",
        "\n",
        "📌 4. Monitor High-Risk Shipment Patterns\n",
        "Current Issue: Frequent outliers in air shipments indicate possible emergency orders or poor planning.\n",
        "\n",
        "Recommendation:\n",
        "\n",
        "Investigate why high-weight air shipments occur — are they customer-driven or planning errors?\n",
        "\n",
        "Set internal policies or thresholds that flag shipments requiring escalation or review before approval.\n",
        "\n",
        "📌 5. Leverage Data-Driven Decisions\n",
        "Build predictive freight cost models using weight, item value, shipment mode, and delivery distance to:\n",
        "\n",
        "Quote more accurate shipping charges.\n",
        "\n",
        "Improve budgeting and financial forecasting.\n",
        "\n",
        "Use visual dashboards to continuously monitor:\n",
        "\n",
        "Shipment costs by mode\n",
        "\n",
        "Annual cost trends\n",
        "\n",
        "Vendor performance"
      ],
      "metadata": {
        "id": "8G2x9gOozGDZ"
      }
    },
    {
      "cell_type": "markdown",
      "source": [
        "# **Conclusion**"
      ],
      "metadata": {
        "id": "gCX9965dhzqZ"
      }
    },
    {
      "cell_type": "markdown",
      "source": [
        "Through comprehensive data analysis of the SCMS Delivery History Dataset, we identified significant patterns, cost behaviors, and shipment inefficiencies that directly impact the client's supply chain and logistics operations.\n",
        "\n",
        "Key findings include:\n",
        "\n",
        "A strong positive correlation between shipment weight and freight cost, as expected in logistics.\n",
        "\n",
        "Air shipments frequently used for moderate to heavy shipments, indicating potential cost inefficiencies.\n",
        "\n",
        "Year-on-year variability in shipment weights and costs, which suggests inconsistencies in procurement planning or shipping practices.\n",
        "\n",
        "Shipment mode selection inconsistencies and the presence of outliers, pointing towards possible emergency shipments and process gaps.\n",
        "\n",
        "The multivariate analysis highlighted that a more structured, data-driven approach to shipment mode selection, inventory planning, and freight cost control can significantly reduce operational expenses and improve efficiency.\n",
        "\n",
        "Implementing these insights will help the client:\n",
        "\n",
        "Optimize logistics costs\n",
        "\n",
        "Improve procurement and inventory processes\n",
        "\n",
        "Enhance vendor negotiations\n",
        "\n",
        "Build predictive models for better budgeting and forecasting\n",
        "\n",
        "However, ignoring these insights could lead to:\n",
        "\n",
        "Increased operational costs\n",
        "\n",
        "Profit margin erosion\n",
        "\n",
        "Supply chain disruptions\n",
        "\n",
        "Final Recommendation:\n",
        "The client should invest in logistics process optimization, cost prediction models, and real-time shipment monitoring systems to enhance decision-making and secure long-term operational efficiency.\n",
        "\n",
        "If you need, I can assist you in creating:\n",
        "\n",
        "Dashboards\n",
        "\n",
        "Predictive models\n",
        "\n",
        "Standard Operating Procedures (SOPs)"
      ],
      "metadata": {
        "id": "Fjb1IsQkh3yE"
      }
    },
    {
      "cell_type": "markdown",
      "source": [
        "### ***Hurrah! You have successfully completed your EDA Capstone Project !!!***"
      ],
      "metadata": {
        "id": "gIfDvo9L0UH2"
      }
    },
    {
      "cell_type": "code",
      "source": [],
      "metadata": {
        "id": "apdI44vsI-kG"
      },
      "execution_count": null,
      "outputs": []
    }
  ]
}